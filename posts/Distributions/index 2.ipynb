{
  "cells": [
    {
      "cell_type": "raw",
      "metadata": {},
      "source": [
        "---\n",
        "title: \"Naive Bayes with Diabetes Dataset\"\n",
        "author: \"Daniel Sabanov\"\n",
        "date: \"2023-12-09\"\n",
        "categories: [Naive Bayes]\n",
        "---"
      ],
      "id": "e84e9c54"
    },
    {
      "cell_type": "markdown",
      "metadata": {},
      "source": [
        "# Learning About Probabilities and Related ML Methods\n",
        "\n",
        "In this blog we will be discussing Naive Bayes and Logistic Regression.\n",
        "The reason for such a selection of topics is the comonality that both of these algorithms share.\n",
        "Both of these algorithms are probabilistic classifiers.\n",
        "This means that both of these methods can output not only their prediction for an outcome, but also the probability of the outcome.\n",
        "We will see the math behind how these models go about doing it as we progress through the blog.\n",
        "First, we should discuss the data.\n",
        "\n",
        "## Diabetes Dataset\n",
        "The current version of the diabetes dataset was taken from [kaggle](https://www.kaggle.com/datasets/mathchi/diabetes-data-set/data).\n",
        "However, it is only a subset of the full dataset owned by the National Institute of Diabetes and Digestive and Kidney Diseases.\n",
        "This particular subset deals with specifically with women over the age of 21 of the Pima Indian heritage.\n",
        "The dataset contains the following columns:\n",
        "\n",
        "* `Pregnancies` - the number of pregnancies the woman has gone through.\n",
        "* `Glucose` - Glucose level.\n",
        "* `BloodPressure` - Diastolic blood pressure in mm Hg.\n",
        "* `SkinThickness` - Triceps skin fold thickness in mm\n",
        "* `Insulin` - 2-Hour serum insulin test result in mu U/ml \n",
        "* `BMI` - Body mass index\n",
        "* `DiabetesPedigreeFunction` - Diabetes pedigree function \n",
        "* `Age` - The age\n",
        "* `Outcome` - Outcome where 1 indicates a positive test result.\n",
        "\n",
        "\n",
        "As usual, we will be loading the dataset through pandas."
      ],
      "id": "49f463b6"
    },
    {
      "cell_type": "code",
      "metadata": {},
      "source": [
        "import pandas as pd\n",
        "data = pd.read_csv('diabetes.csv')\n",
        "data.head()"
      ],
      "id": "27ddd1d1",
      "execution_count": null,
      "outputs": []
    },
    {
      "cell_type": "markdown",
      "metadata": {},
      "source": [
        "Let's take a quick look at the dataset information to undestand the column compostion.\n"
      ],
      "id": "9d0645c5"
    },
    {
      "cell_type": "code",
      "metadata": {},
      "source": [
        "data.info()"
      ],
      "id": "8c23188d",
      "execution_count": null,
      "outputs": []
    },
    {
      "cell_type": "markdown",
      "metadata": {},
      "source": [
        "Every single column in the dataset is numeric.\n",
        "Let us take a look at the distribution of the data in each column.\n"
      ],
      "id": "b1efaecf"
    },
    {
      "cell_type": "code",
      "metadata": {},
      "source": [
        "import matplotlib.pyplot as plt\n",
        "import seaborn as sns\n",
        "sns.color_palette(\"rocket\", as_cmap=True)\n",
        "for col in data.columns:\n",
        "    fig, (ax1, ax2) = plt.subplots(ncols=2, figsize=(15,7))\n",
        "    ax1.boxplot(data[col])\n",
        "    sns.kdeplot(data[col], ax=ax2)\n",
        "    plt.title(col)\n",
        "plt.show()"
      ],
      "id": "f0f8c342",
      "execution_count": null,
      "outputs": []
    },
    {
      "cell_type": "markdown",
      "metadata": {},
      "source": [
        "We can see that certain values here were imputed as some of the values can never be equal to 0 in the real world.\n",
        "For example, neither BMI or blood preassure can be equal to 0, yet we do see some values in the columns that are equal to 0.\n",
        "We could impute these values using a mean, median, or perhaps even KNN-imputer in order to try and improve the performance of the model.\n",
        "Yet surprisingly, when I tried to do so, the models performed worse when I tried to impute these value.\n",
        "So, they will stay as they are.\n",
        "Next, we will look at the distributions of the data per outcome."
      ],
      "id": "85817a84"
    },
    {
      "cell_type": "code",
      "metadata": {},
      "source": [
        "for col in data.columns:\n",
        "    if col == \"Outcome\":\n",
        "        continue\n",
        "    fig, (ax1, ax2) = plt.subplots(ncols=2, figsize=(15,7))\n",
        "    positives = data[\"Outcome\"] == 1\n",
        "    negatives = data[\"Outcome\"] == 0\n",
        "    ax1.boxplot(data[col].loc[positives], positions=[1])\n",
        "    ax1.boxplot(data[col].loc[negatives], positions=[2])\n",
        "    ax1.set_xticklabels([\"Positive\", \"Negative\"])\n",
        "    ax1.set_title(f\"{col} Boxplot\")\n",
        "    sns.kdeplot(data[col].loc[positives], ax=ax2, label=\"Positive\")\n",
        "    sns.kdeplot(data[col].loc[negatives], ax=ax2, label=\"Negative\")\n",
        "    plt.legend(loc=\"best\")\n",
        "    plt.title(f\"{col} KDE\")\n",
        "plt.show()"
      ],
      "id": "42519fed",
      "execution_count": null,
      "outputs": []
    },
    {
      "cell_type": "markdown",
      "metadata": {},
      "source": [
        "Inrestingly, the distributions for both the blood pressure and skin thickness appear to be very similar to each other regardless of the outcome.\n",
        "We could experiment and try to remove these variables from the model down the line and see if we are able to achieve better performance.\n",
        "For now, let's check if we can spot anything interesting happening when we project the data into 2 dimensions."
      ],
      "id": "87916c73"
    },
    {
      "cell_type": "code",
      "metadata": {},
      "source": [
        "from sklearn.preprocessing import StandardScaler\n",
        "from sklearn.decomposition import PCA\n",
        "from sklearn.pipeline import Pipeline\n",
        "\n",
        "y = data[\"Outcome\"]\n",
        "X = data.drop(\"Outcome\", axis=1)\n",
        "\n",
        "pipeline = Pipeline([\n",
        "    (\"scaler\", StandardScaler()),\n",
        "    (\"pca\", PCA(n_components=2)),\n",
        "])\n",
        "\n",
        "pca_data = pd.DataFrame(\n",
        "    pipeline.fit_transform(X),\n",
        "    columns=[\"PC1\", \"PC2\"],\n",
        "    index=data.index,\n",
        ")\n",
        "\n",
        "plt.scatter(pca_data[\"PC1\"], pca_data[\"PC2\"], c=y, cmap=\"viridis\")\n",
        "plt.title(\"Projection of the Diabetes Data\")"
      ],
      "id": "5912a7ed",
      "execution_count": null,
      "outputs": []
    },
    {
      "cell_type": "markdown",
      "metadata": {},
      "source": [
        "Unfortunatley, the difference between the two distributions is a bit difficult to spot in these two dimension.\n",
        "\n",
        "## Training Naive Bayes\n",
        "We will now proceed to train and test the naive bayes model.\n",
        "As usual, we should split the data into train and test sets."
      ],
      "id": "3d16dfe6"
    },
    {
      "cell_type": "code",
      "metadata": {},
      "source": [
        "from sklearn.model_selection import train_test_split\n",
        "\n",
        "X_train, X_test, y_train, y_test = train_test_split(X, y, test_size=0.2, random_state=42)"
      ],
      "id": "a1963124",
      "execution_count": null,
      "outputs": []
    },
    {
      "cell_type": "markdown",
      "metadata": {},
      "source": [
        "Alright, now let us train the model, but first - some theory.\n",
        "\n",
        "As mentioned above, naive bayes is a probabilistic classifier, so it should be able to output the probabilities of each outcome along with its prediction.\n",
        "\n",
        "It does so by computing $P(Y | X)$ where $Y$ represents the classified variable and X represents the feature variables.\n",
        "According to Bayes theorem (that's where the method get's its name):\n",
        "$$\n",
        "P(Y | X) = \\frac{P(X | Y) P(Y)}{P(X)}\n",
        "$$\n",
        "Although this equation looks simple, it becomes very difficult to compute as $X$ grows larger.\n",
        "This is because we have to calculate $P(X | Y)$.\n",
        "For example, assume X consists of two features $X_1$ and $X_2$.\n",
        "Then, we have to calculate \n",
        "$$\n",
        "P(Y | X_1, X_2) = \\frac{P(X_1, X_2 | Y) P(Y)}{P(X_1, X_2)}\n",
        "$$\n",
        "So, now we need data where all the three variables ($X_1$, $X_2$, $Y$) interact.\n",
        "However, naive bayes makes a very crucial assumption.\n",
        "It assumes that the variables are independent.\n",
        "Thus, our equation is simplified to \n",
        "$$\n",
        "P(Y | X_1, X_2) = P(X_1 | Y) P(X_2 | Y)\n",
        "$$\n",
        "Now, we no longer need the data on how $X_1$ and $X_2$ interact with each other and only need to know how they interact with $Y$.\n",
        "This means that we need significantly less data and the computation becomes much cheaper.\n",
        "\n",
        "You may be concerned that the assumption of independnce is flawed since variables in most data are going to have some degree of dependence on each other.\n",
        "That is a good concern to have.\n",
        "However, naive bayes generally tends to perform well even when that assumption is violated.\n",
        "\n",
        "So, when given observations $X_1, X_2, ..., X_n$, naive baise calculates the probabilities for all the possible outcomes $Y$ and then selects the outcome with the highest probability. \n",
        "This is how we both get a probability estimate and a prediction. "
      ],
      "id": "63a9ffc0"
    },
    {
      "cell_type": "code",
      "metadata": {},
      "source": [
        "from sklearn.metrics import ConfusionMatrixDisplay, f1_score, accuracy_score\n",
        "from sklearn.naive_bayes import GaussianNB\n",
        "nb = GaussianNB()\n",
        "nb.fit(X_train, y_train)\n",
        "prediction = nb.predict(X_test)\n",
        "cmd = ConfusionMatrixDisplay.from_estimator(nb, X_test, y_test)\n",
        "print(\"Accuracy: \", accuracy_score(prediction, y_test))\n",
        "print(\"F1 score: \", f1_score(prediction, y_test))"
      ],
      "id": "dcf45c77",
      "execution_count": null,
      "outputs": []
    },
    {
      "cell_type": "code",
      "metadata": {},
      "source": [
        "x1 = X_test.iloc[0]\n",
        "x1"
      ],
      "id": "1ded135f",
      "execution_count": null,
      "outputs": []
    },
    {
      "cell_type": "code",
      "metadata": {},
      "source": [
        "x1 = x1.to_numpy().reshape(1, -1)\n",
        "prediction = nb.predict(x1)\n",
        "probs = nb.predict_proba(x1)[0]\n",
        "print(\n",
        "    f\"Naive bayes predicted that the outcome would be {prediction[0]} with probability of {max(probs)}\""
      ],
      "id": "b1d249ac",
      "execution_count": null,
      "outputs": []
    },
    {
      "cell_type": "code",
      "metadata": {},
      "source": [
        "from sklearn.linear_model import LogisticRegression\n",
        "\n",
        "lr = LogisticRegression(max_iter=1000)\n",
        "lr.fit(X_train, y_train)\n",
        "cmd = ConfusionMatrixDisplay.from_estimator(lr, X_test, y_test)\n",
        "prediction = lr.predict(X_test)\n",
        "print(\"Accuracy: \", accuracy_score(prediction, y_test))\n",
        "print(\"F1 score: \", f1_score(prediction, y_test))"
      ],
      "id": "dbd12a38",
      "execution_count": null,
      "outputs": []
    }
  ],
  "metadata": {
    "kernelspec": {
      "name": "python3",
      "language": "python",
      "display_name": "Python 3 (ipykernel)"
    }
  },
  "nbformat": 4,
  "nbformat_minor": 5
}